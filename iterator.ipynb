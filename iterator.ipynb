{
 "cells": [
  {
   "cell_type": "markdown",
   "metadata": {},
   "source": [
    "#Iterator\n",
    "An iterator is an object that contains a countable number of values.  \n",
    "\n",
    "An iterator is an object that can be iterated upon, meaning that you can traverse through all the values.  \n",
    "\n",
    "Technically, in Python, an iterator is an object which implements the iterator protocol, which consist of the methods**___iter__() and __next__().  _**\n"
   ]
  },
  {
   "cell_type": "code",
   "execution_count": 4,
   "metadata": {},
   "outputs": [
    {
     "name": "stdout",
     "output_type": "stream",
     "text": [
      "1\n",
      "25\n",
      "2\n"
     ]
    }
   ],
   "source": [
    "num=[1,25,2,3,4,5,6,7,3,3,5]\n",
    "it=iter(num)  #this is our iterator \n",
    "'iterator holds or iterates only one value at a time'\n",
    "\n",
    "print(it.__next__() )\n",
    "print(it.__next__() )\n",
    "'or you can use the following method'\n",
    "print(next(it))"
   ]
  },
  {
   "cell_type": "code",
   "execution_count": 9,
   "metadata": {},
   "outputs": [
    {
     "name": "stdout",
     "output_type": "stream",
     "text": [
      "1\n",
      "2\n",
      "3\n",
      "4\n",
      "5\n",
      "6\n",
      "7\n",
      "8\n",
      "9\n",
      "10\n"
     ]
    }
   ],
   "source": [
    "'Own Class based iterator'\n",
    "class owniterator:\n",
    "    def __init__(self):\n",
    "        self.count=1\n",
    "\n",
    "    def __iter__(self):\n",
    "        return self\n",
    "    \n",
    "    def __next__(self):\n",
    "        if self.count<11:\n",
    "            var=self.count\n",
    "            self.count+=1\n",
    "            return var\n",
    "        else:\n",
    "            raise  StopIteration\n",
    "\n",
    "values=owniterator()\n",
    "for i in values:\n",
    "    print(i)\n",
    "\n",
    "\n",
    "    "
   ]
  }
 ],
 "metadata": {
  "interpreter": {
   "hash": "ac59ebe37160ed0dfa835113d9b8498d9f09ceb179beaac4002f036b9467c963"
  },
  "kernelspec": {
   "display_name": "Python 3.9.5 64-bit",
   "language": "python",
   "name": "python3"
  },
  "language_info": {
   "codemirror_mode": {
    "name": "ipython",
    "version": 3
   },
   "file_extension": ".py",
   "mimetype": "text/x-python",
   "name": "python",
   "nbconvert_exporter": "python",
   "pygments_lexer": "ipython3",
   "version": "3.9.5"
  },
  "orig_nbformat": 4
 },
 "nbformat": 4,
 "nbformat_minor": 2
}
